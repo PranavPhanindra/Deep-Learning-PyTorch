{
  "cells": [
    {
      "cell_type": "markdown",
      "metadata": {
        "id": "view-in-github",
        "colab_type": "text"
      },
      "source": [
        "<a href=\"https://colab.research.google.com/github/PranavPhanindra/Deep-Learning-PyTorch/blob/main/tensors_deeper_tutorial.ipynb\" target=\"_parent\"><img src=\"https://colab.research.google.com/assets/colab-badge.svg\" alt=\"Open In Colab\"/></a>"
      ]
    },
    {
      "cell_type": "code",
      "execution_count": 35,
      "metadata": {
        "id": "skGKDsKV9FJi"
      },
      "outputs": [],
      "source": [
        "# For tips on running notebooks in Google Colab, see\n",
        "# https://pytorch.org/tutorials/beginner/colab\n",
        "%matplotlib inline"
      ]
    },
    {
      "cell_type": "code",
      "execution_count": 36,
      "metadata": {
        "colab": {
          "base_uri": "https://localhost:8080/"
        },
        "id": "7zCkN_5T9QCC",
        "outputId": "cd24e00e-589a-4f92-e580-ee0a2957e4df"
      },
      "outputs": [
        {
          "output_type": "stream",
          "name": "stdout",
          "text": [
            "Drive already mounted at /content/drive; to attempt to forcibly remount, call drive.mount(\"/content/drive\", force_remount=True).\n"
          ]
        }
      ],
      "source": [
        "from google.colab import drive\n",
        "drive.mount('/content/drive')"
      ]
    },
    {
      "cell_type": "markdown",
      "metadata": {
        "id": "jOHuHz989FJk"
      },
      "source": [
        "\n",
        "[Introduction](introyt1_tutorial.html) ||\n",
        "**Tensors** ||\n",
        "[Autograd](autogradyt_tutorial.html) ||\n",
        "[Building Models](modelsyt_tutorial.html) ||\n",
        "[TensorBoard Support](tensorboardyt_tutorial.html) ||\n",
        "[Training Models](trainingyt.html) ||\n",
        "[Model Understanding](captumyt.html)\n",
        "\n",
        "# Introduction to PyTorch Tensors\n",
        "\n",
        "Follow along with the video below or on [youtube](https://www.youtube.com/watch?v=r7QDUPb2dCM)_.\n",
        "\n",
        ".. raw:: html\n",
        "\n",
        "   <div style=\"margin-top:10px; margin-bottom:10px;\">\n",
        "     <iframe width=\"560\" height=\"315\" src=\"https://www.youtube.com/embed/r7QDUPb2dCM\" frameborder=\"0\" allow=\"accelerometer; encrypted-media; gyroscope; picture-in-picture\" allowfullscreen></iframe>\n",
        "   </div>\n",
        "\n",
        "Tensors are the central data abstraction in PyTorch. This interactive\n",
        "notebook provides an in-depth introduction to the ``torch.Tensor``\n",
        "class.\n",
        "\n",
        "First things first, let’s import the PyTorch module. We’ll also add\n",
        "Python’s math module to facilitate some of the examples.\n"
      ]
    },
    {
      "cell_type": "code",
      "execution_count": 37,
      "metadata": {
        "id": "VYYMa9aU9FJp"
      },
      "outputs": [],
      "source": [
        "import torch\n",
        "import math"
      ]
    },
    {
      "cell_type": "markdown",
      "metadata": {
        "id": "47jHzaV29FJr"
      },
      "source": [
        "## Creating Tensors\n",
        "\n",
        "The simplest way to create a tensor is with the ``torch.empty()`` call:\n",
        "\n",
        "\n"
      ]
    },
    {
      "cell_type": "code",
      "execution_count": 38,
      "metadata": {
        "colab": {
          "base_uri": "https://localhost:8080/"
        },
        "id": "wB00lsge9FJr",
        "outputId": "c4b6c67d-faf2-4941-9d32-92caa20a46c5"
      },
      "outputs": [
        {
          "output_type": "stream",
          "name": "stdout",
          "text": [
            "<class 'torch.Tensor'>\n",
            "tensor([[0., 0., 0., 0.],\n",
            "        [0., 0., 0., 0.],\n",
            "        [0., 0., 0., 0.]])\n"
          ]
        }
      ],
      "source": [
        "x = torch.empty(3, 4)\n",
        "print(type(x))\n",
        "print(x)"
      ]
    },
    {
      "cell_type": "markdown",
      "metadata": {
        "id": "sgiXLjg49FJs"
      },
      "source": [
        "Let’s unpack what we just did:\n",
        "\n",
        "-  We created a tensor using one of the numerous factory methods\n",
        "   attached to the ``torch`` module.\n",
        "-  The tensor itself is 2-dimensional, having 3 rows and 4 columns.\n",
        "-  The type of the object returned is ``torch.Tensor``, which is an\n",
        "   alias for ``torch.FloatTensor``; by default, PyTorch tensors are\n",
        "   populated with 32-bit floating point numbers. (More on data types\n",
        "   below.)\n",
        "-  You will probably see some random-looking values when printing your\n",
        "   tensor. The ``torch.empty()`` call allocates memory for the tensor,\n",
        "   but does not initialize it with any values - so what you’re seeing is\n",
        "   whatever was in memory at the time of allocation.\n",
        "\n",
        "A brief note about tensors and their number of dimensions, and\n",
        "terminology:\n",
        "\n",
        "-  You will sometimes see a 1-dimensional tensor called a\n",
        "   *vector.*\n",
        "-  Likewise, a 2-dimensional tensor is often referred to as a\n",
        "   *matrix.*\n",
        "-  Anything with more than two dimensions is generally just\n",
        "   called a tensor.\n",
        "\n",
        "More often than not, you’ll want to initialize your tensor with some\n",
        "value. Common cases are all zeros, all ones, or random values, and the\n",
        "``torch`` module provides factory methods for all of these:\n",
        "\n",
        "\n"
      ]
    },
    {
      "cell_type": "code",
      "execution_count": 39,
      "metadata": {
        "colab": {
          "base_uri": "https://localhost:8080/"
        },
        "id": "lSgA-t279FJt",
        "outputId": "8c84928b-479a-49a5-bf48-f67491c2c96c"
      },
      "outputs": [
        {
          "output_type": "stream",
          "name": "stdout",
          "text": [
            "tensor([[0., 0., 0.],\n",
            "        [0., 0., 0.]])\n",
            "torch.Size([2, 3])\n",
            "tensor([[1., 1., 1.],\n",
            "        [1., 1., 1.]])\n",
            "tensor([[0.3126, 0.3791, 0.3087],\n",
            "        [0.0736, 0.4216, 0.0691]])\n"
          ]
        }
      ],
      "source": [
        "zeros = torch.zeros(2, 3)\n",
        "print(zeros)\n",
        "print(zeros.size())\n",
        "\n",
        "ones = torch.ones(2, 3)\n",
        "print(ones)\n",
        "\n",
        "torch.manual_seed(1729)\n",
        "random = torch.rand(2, 3)\n",
        "print(random)"
      ]
    },
    {
      "cell_type": "markdown",
      "metadata": {
        "id": "E7RvzsOe9FJu"
      },
      "source": [
        "The factory methods all do just what you’d expect - we have a tensor\n",
        "full of zeros, another full of ones, and another with random values\n",
        "between 0 and 1.\n",
        "\n",
        "### Random Tensors and Seeding\n",
        "\n",
        "Speaking of the random tensor, did you notice the call to\n",
        "``torch.manual_seed()`` immediately preceding it? Initializing tensors,\n",
        "such as a model’s learning weights, with random values is common but\n",
        "there are times - especially in research settings - where you’ll want\n",
        "some assurance of the reproducibility of your results. Manually setting\n",
        "your random number generator’s seed is the way to do this. Let’s look\n",
        "more closely:\n",
        "\n",
        "\n"
      ]
    },
    {
      "cell_type": "code",
      "execution_count": 40,
      "metadata": {
        "colab": {
          "base_uri": "https://localhost:8080/"
        },
        "id": "m0iA2E_C9FJu",
        "outputId": "a1b47cc7-44df-4c5b-de8f-8952414ba7a4"
      },
      "outputs": [
        {
          "output_type": "stream",
          "name": "stdout",
          "text": [
            "tensor([[0.3126, 0.3791, 0.3087],\n",
            "        [0.0736, 0.4216, 0.0691]])\n",
            "tensor([[0.2332, 0.4047, 0.2162],\n",
            "        [0.9927, 0.4128, 0.5938]])\n",
            "tensor([[0.3126, 0.3791, 0.3087],\n",
            "        [0.0736, 0.4216, 0.0691]])\n",
            "tensor([[0.2332, 0.4047, 0.2162],\n",
            "        [0.9927, 0.4128, 0.5938]])\n"
          ]
        }
      ],
      "source": [
        "torch.manual_seed(1729)\n",
        "random1 = torch.rand(2, 3)\n",
        "print(random1)\n",
        "\n",
        "random2 = torch.rand(2, 3)\n",
        "print(random2)\n",
        "\n",
        "torch.manual_seed(1729)\n",
        "random3 = torch.rand(2, 3)\n",
        "print(random3)\n",
        "\n",
        "random4 = torch.rand(2, 3)\n",
        "print(random4)"
      ]
    },
    {
      "cell_type": "markdown",
      "metadata": {
        "id": "hKiKNUpG9FJv"
      },
      "source": [
        "What you should see above is that ``random1`` and ``random3`` carry\n",
        "identical values, as do ``random2`` and ``random4``. Manually setting\n",
        "the RNG’s seed resets it, so that identical computations depending on\n",
        "random number should, in most settings, provide identical results.\n",
        "\n",
        "For more information, see the [PyTorch documentation on\n",
        "reproducibility](https://pytorch.org/docs/stable/notes/randomness.html)_.\n",
        "\n",
        "### Tensor Shapes\n",
        "\n",
        "Often, when you’re performing operations on two or more tensors, they\n",
        "will need to be of the same *shape* - that is, having the same number of\n",
        "dimensions and the same number of cells in each dimension. For that, we\n",
        "have the ``torch.*_like()`` methods:\n",
        "\n",
        "\n"
      ]
    },
    {
      "cell_type": "code",
      "execution_count": 41,
      "metadata": {
        "colab": {
          "base_uri": "https://localhost:8080/"
        },
        "id": "NXfznLNp9FJw",
        "outputId": "52e3f9b7-a0e9-47aa-f66a-db86f5a1d0f3"
      },
      "outputs": [
        {
          "output_type": "stream",
          "name": "stdout",
          "text": [
            "torch.Size([2, 2, 3])\n",
            "tensor([[[-7.0207e-01,  7.0065e-45,  1.4013e-45],\n",
            "         [ 0.0000e+00,  1.4013e-45,  0.0000e+00]],\n",
            "\n",
            "        [[ 1.4013e-45,  0.0000e+00,  1.4013e-45],\n",
            "         [ 0.0000e+00,  1.4013e-45,  0.0000e+00]]])\n",
            "torch.Size([2, 2, 3])\n",
            "tensor([[[9.8091e-45, 0.0000e+00, 0.0000e+00],\n",
            "         [0.0000e+00, 0.0000e+00, 0.0000e+00]],\n",
            "\n",
            "        [[0.0000e+00, 0.0000e+00, 0.0000e+00],\n",
            "         [0.0000e+00, 1.4013e-45, 0.0000e+00]]])\n",
            "torch.Size([2, 2, 3])\n",
            "tensor([[[0., 0., 0.],\n",
            "         [0., 0., 0.]],\n",
            "\n",
            "        [[0., 0., 0.],\n",
            "         [0., 0., 0.]]])\n",
            "torch.Size([2, 2, 3])\n",
            "tensor([[[1., 1., 1.],\n",
            "         [1., 1., 1.]],\n",
            "\n",
            "        [[1., 1., 1.],\n",
            "         [1., 1., 1.]]])\n",
            "torch.Size([2, 2, 3])\n",
            "tensor([[[0.6128, 0.1519, 0.0453],\n",
            "         [0.5035, 0.9978, 0.3884]],\n",
            "\n",
            "        [[0.6929, 0.1703, 0.1384],\n",
            "         [0.4759, 0.7481, 0.0361]]])\n"
          ]
        }
      ],
      "source": [
        "x = torch.empty(2, 2, 3)\n",
        "print(x.shape)\n",
        "print(x)\n",
        "\n",
        "empty_like_x = torch.empty_like(x)\n",
        "print(empty_like_x.shape)\n",
        "print(empty_like_x)\n",
        "\n",
        "zeros_like_x = torch.zeros_like(x)\n",
        "print(zeros_like_x.shape)\n",
        "print(zeros_like_x)\n",
        "\n",
        "ones_like_x = torch.ones_like(x)\n",
        "print(ones_like_x.shape)\n",
        "print(ones_like_x)\n",
        "\n",
        "rand_like_x = torch.rand_like(x)\n",
        "print(rand_like_x.shape)\n",
        "print(rand_like_x)"
      ]
    },
    {
      "cell_type": "markdown",
      "metadata": {
        "id": "bXzyYB4a9FJx"
      },
      "source": [
        "The first new thing in the code cell above is the use of the ``.shape``\n",
        "property on a tensor. This property contains a list of the extent of\n",
        "each dimension of a tensor - in our case, ``x`` is a three-dimensional\n",
        "tensor with shape 2 x 2 x 3.\n",
        "\n",
        "Below that, we call the ``.empty_like()``, ``.zeros_like()``,\n",
        "``.ones_like()``, and ``.rand_like()`` methods. Using the ``.shape``\n",
        "property, we can verify that each of these methods returns a tensor of\n",
        "identical dimensionality and extent.\n",
        "\n",
        "The last way to create a tensor that will cover is to specify its data\n",
        "directly from a PyTorch collection:\n",
        "\n",
        "\n"
      ]
    },
    {
      "cell_type": "code",
      "execution_count": 42,
      "metadata": {
        "colab": {
          "base_uri": "https://localhost:8080/"
        },
        "id": "v2N8Iy_P9FJy",
        "outputId": "c1b57d94-8622-4ef8-fe6e-4e95701c6a09"
      },
      "outputs": [
        {
          "output_type": "stream",
          "name": "stdout",
          "text": [
            "tensor([[3.1416, 2.7183],\n",
            "        [1.6180, 0.0073]])\n",
            "tensor([ 2,  3,  5,  7, 11, 13, 17, 19])\n",
            "tensor([[2, 4, 6],\n",
            "        [3, 6, 9]])\n"
          ]
        }
      ],
      "source": [
        "some_constants = torch.tensor([[3.1415926, 2.71828], [1.61803, 0.0072897]])\n",
        "print(some_constants)\n",
        "\n",
        "some_integers = torch.tensor((2, 3, 5, 7, 11, 13, 17, 19))\n",
        "print(some_integers)\n",
        "\n",
        "more_integers = torch.tensor(((2, 4, 6), [3, 6, 9]))\n",
        "print(more_integers)"
      ]
    },
    {
      "cell_type": "markdown",
      "metadata": {
        "id": "8iMeH_wJ9FJy"
      },
      "source": [
        "Using ``torch.tensor()`` is the most straightforward way to create a\n",
        "tensor if you already have data in a Python tuple or list. As shown\n",
        "above, nesting the collections will result in a multi-dimensional\n",
        "tensor.\n",
        "\n",
        "<div class=\"alert alert-info\"><h4>Note</h4><p>``torch.tensor()`` creates a copy of the data.</p></div>\n",
        "\n",
        "### Tensor Data Types\n",
        "\n",
        "Setting the datatype of a tensor is possible a couple of ways:\n",
        "\n",
        "\n"
      ]
    },
    {
      "cell_type": "code",
      "execution_count": 43,
      "metadata": {
        "colab": {
          "base_uri": "https://localhost:8080/"
        },
        "id": "BeEJbNZb9FJz",
        "outputId": "195e0aad-cf24-493a-f0b4-0e1968c60f92"
      },
      "outputs": [
        {
          "output_type": "stream",
          "name": "stdout",
          "text": [
            "tensor([[1, 1, 1],\n",
            "        [1, 1, 1]], dtype=torch.int16)\n",
            "tensor([[ 0.9956,  1.4148,  5.8364],\n",
            "        [11.2406, 11.2083, 11.6692]], dtype=torch.float64)\n",
            "tensor([[ 0,  1,  5],\n",
            "        [11, 11, 11]], dtype=torch.int32)\n"
          ]
        }
      ],
      "source": [
        "a = torch.ones((2, 3), dtype=torch.int16)\n",
        "print(a)\n",
        "\n",
        "b = torch.rand((2, 3), dtype=torch.float64) * 20.\n",
        "print(b)\n",
        "\n",
        "c = b.to(torch.int32)\n",
        "print(c)"
      ]
    },
    {
      "cell_type": "markdown",
      "metadata": {
        "id": "dZEaHFU_9FJz"
      },
      "source": [
        "The simplest way to set the underlying data type of a tensor is with an\n",
        "optional argument at creation time. In the first line of the cell above,\n",
        "we set ``dtype=torch.int16`` for the tensor ``a``. When we print ``a``,\n",
        "we can see that it’s full of ``1`` rather than ``1.`` - Python’s subtle\n",
        "cue that this is an integer type rather than floating point.\n",
        "\n",
        "Another thing to notice about printing ``a`` is that, unlike when we\n",
        "left ``dtype`` as the default (32-bit floating point), printing the\n",
        "tensor also specifies its ``dtype``.\n",
        "\n",
        "You may have also spotted that we went from specifying the tensor’s\n",
        "shape as a series of integer arguments, to grouping those arguments in a\n",
        "tuple. This is not strictly necessary - PyTorch will take a series of\n",
        "initial, unlabeled integer arguments as a tensor shape - but when adding\n",
        "the optional arguments, it can make your intent more readable.\n",
        "\n",
        "The other way to set the datatype is with the ``.to()`` method. In the\n",
        "cell above, we create a random floating point tensor ``b`` in the usual\n",
        "way. Following that, we create ``c`` by converting ``b`` to a 32-bit\n",
        "integer with the ``.to()`` method. Note that ``c`` contains all the same\n",
        "values as ``b``, but truncated to integers.\n",
        "\n",
        "Available data types include:\n",
        "\n",
        "-  ``torch.bool``\n",
        "-  ``torch.int8``\n",
        "-  ``torch.uint8``\n",
        "-  ``torch.int16``\n",
        "-  ``torch.int32``\n",
        "-  ``torch.int64``\n",
        "-  ``torch.half``\n",
        "-  ``torch.float``\n",
        "-  ``torch.double``\n",
        "-  ``torch.bfloat``\n",
        "\n",
        "## Math & Logic with PyTorch Tensors\n",
        "\n",
        "Now that you know some of the ways to create a tensor… what can you do\n",
        "with them?\n",
        "\n",
        "Let’s look at basic arithmetic first, and how tensors interact with\n",
        "simple scalars:\n",
        "\n",
        "\n"
      ]
    },
    {
      "cell_type": "code",
      "execution_count": 44,
      "metadata": {
        "colab": {
          "base_uri": "https://localhost:8080/"
        },
        "id": "XvboVq1Z9FJ0",
        "outputId": "52c5acff-b1f9-43be-88ce-261c9ae99b2e"
      },
      "outputs": [
        {
          "output_type": "stream",
          "name": "stdout",
          "text": [
            "tensor([[1., 1.],\n",
            "        [1., 1.]])\n",
            "tensor([[2., 2.],\n",
            "        [2., 2.]])\n",
            "tensor([[3., 3.],\n",
            "        [3., 3.]])\n",
            "tensor([[4., 4.],\n",
            "        [4., 4.]])\n",
            "tensor([[1.4142, 1.4142],\n",
            "        [1.4142, 1.4142]])\n"
          ]
        }
      ],
      "source": [
        "ones = torch.zeros(2, 2) + 1\n",
        "twos = torch.ones(2, 2) * 2\n",
        "threes = (torch.ones(2, 2) * 7 - 1) / 2\n",
        "fours = twos ** 2\n",
        "sqrt2s = twos ** 0.5\n",
        "\n",
        "print(ones)\n",
        "print(twos)\n",
        "print(threes)\n",
        "print(fours)\n",
        "print(sqrt2s)"
      ]
    },
    {
      "cell_type": "markdown",
      "metadata": {
        "id": "X479B7nt9FJ0"
      },
      "source": [
        "As you can see above, arithmetic operations between tensors and scalars,\n",
        "such as addition, subtraction, multiplication, division, and\n",
        "exponentiation are distributed over every element of the tensor. Because\n",
        "the output of such an operation will be a tensor, you can chain them\n",
        "together with the usual operator precedence rules, as in the line where\n",
        "we create ``threes``.\n",
        "\n",
        "Similar operations between two tensors also behave like you’d\n",
        "intuitively expect:\n",
        "\n",
        "\n"
      ]
    },
    {
      "cell_type": "code",
      "execution_count": 45,
      "metadata": {
        "colab": {
          "base_uri": "https://localhost:8080/"
        },
        "id": "QadHcJYg9FJ1",
        "outputId": "33ca8242-8689-4bdf-c238-0b26df7b3886"
      },
      "outputs": [
        {
          "output_type": "stream",
          "name": "stdout",
          "text": [
            "tensor([[ 2.,  4.],\n",
            "        [ 8., 16.]])\n",
            "tensor([[5., 5.],\n",
            "        [5., 5.]])\n",
            "tensor([[12., 12.],\n",
            "        [12., 12.]])\n"
          ]
        }
      ],
      "source": [
        "powers2 = twos ** torch.tensor([[1, 2], [3, 4]])\n",
        "print(powers2)\n",
        "\n",
        "fives = ones + fours\n",
        "print(fives)\n",
        "\n",
        "dozens = threes * fours\n",
        "print(dozens)"
      ]
    },
    {
      "cell_type": "markdown",
      "metadata": {
        "id": "gKe0jsjk9FJ3"
      },
      "source": [
        "It’s important to note here that all of the tensors in the previous code\n",
        "cell were of identical shape. What happens when we try to perform a\n",
        "binary operation on tensors if dissimilar shape?\n",
        "\n",
        "<div class=\"alert alert-info\"><h4>Note</h4><p>The following cell throws a run-time error. This is intentional.</p></div>\n",
        "\n",
        "::\n",
        "\n",
        "   a = torch.rand(2, 3)\n",
        "   b = torch.rand(3, 2)\n",
        "\n",
        "   print(a * b)\n",
        "\n",
        "\n"
      ]
    },
    {
      "cell_type": "code",
      "execution_count": 48,
      "metadata": {
        "colab": {
          "base_uri": "https://localhost:8080/",
          "height": 211
        },
        "id": "idCCWBH38bcB",
        "outputId": "f4b0ff5d-d579-474c-aa9e-a0090fcc95b5"
      },
      "outputs": [
        {
          "output_type": "error",
          "ename": "RuntimeError",
          "evalue": "ignored",
          "traceback": [
            "\u001b[0;31m---------------------------------------------------------------------------\u001b[0m",
            "\u001b[0;31mRuntimeError\u001b[0m                              Traceback (most recent call last)",
            "\u001b[0;32m<ipython-input-48-fcc83145fe91>\u001b[0m in \u001b[0;36m<cell line: 4>\u001b[0;34m()\u001b[0m\n\u001b[1;32m      2\u001b[0m \u001b[0mb\u001b[0m \u001b[0;34m=\u001b[0m \u001b[0mtorch\u001b[0m\u001b[0;34m.\u001b[0m\u001b[0mrand\u001b[0m\u001b[0;34m(\u001b[0m\u001b[0;36m3\u001b[0m\u001b[0;34m,\u001b[0m \u001b[0;36m2\u001b[0m\u001b[0;34m)\u001b[0m\u001b[0;34m\u001b[0m\u001b[0;34m\u001b[0m\u001b[0m\n\u001b[1;32m      3\u001b[0m \u001b[0;34m\u001b[0m\u001b[0m\n\u001b[0;32m----> 4\u001b[0;31m \u001b[0mprint\u001b[0m\u001b[0;34m(\u001b[0m\u001b[0ma\u001b[0m \u001b[0;34m*\u001b[0m \u001b[0mb\u001b[0m\u001b[0;34m)\u001b[0m\u001b[0;34m\u001b[0m\u001b[0;34m\u001b[0m\u001b[0m\n\u001b[0m",
            "\u001b[0;31mRuntimeError\u001b[0m: The size of tensor a (3) must match the size of tensor b (2) at non-singleton dimension 1"
          ]
        }
      ],
      "source": [
        "a = torch.rand(2, 3)\n",
        "b = torch.rand(3, 2)\n",
        "\n",
        "print(a * b)"
      ]
    },
    {
      "cell_type": "code",
      "execution_count": 49,
      "metadata": {
        "colab": {
          "base_uri": "https://localhost:8080/"
        },
        "id": "2Q578Rh88rI5",
        "outputId": "23ea7f5d-60bc-4711-f98a-c0b26f69829b"
      },
      "outputs": [
        {
          "output_type": "execute_result",
          "data": {
            "text/plain": [
              "tensor([[0.5365, 0.6050],\n",
              "        [0.6866, 0.6609]])"
            ]
          },
          "metadata": {},
          "execution_count": 49
        }
      ],
      "source": [
        "#Using matmul operation to do matrix multiplication\n",
        "a.matmul(b)"
      ]
    },
    {
      "cell_type": "markdown",
      "metadata": {
        "id": "x7tSG2e59FJ3"
      },
      "source": [
        "In the general case, you cannot operate on tensors of different shape\n",
        "this way, even in a case like the cell above, where the tensors have an\n",
        "identical number of elements.\n",
        "\n",
        "### In Brief: Tensor Broadcasting\n",
        "\n",
        "<div class=\"alert alert-info\"><h4>Note</h4><p>If you are familiar with broadcasting semantics in NumPy\n",
        "     ndarrays, you’ll find the same rules apply here.</p></div>\n",
        "\n",
        "The exception to the same-shapes rule is *tensor broadcasting.* Here’s\n",
        "an example:\n",
        "\n",
        "\n"
      ]
    },
    {
      "cell_type": "code",
      "execution_count": 50,
      "metadata": {
        "colab": {
          "base_uri": "https://localhost:8080/"
        },
        "id": "SNiOClbb9FJ4",
        "outputId": "73cd47a0-067b-460d-b5b6-0194b6ada5d1"
      },
      "outputs": [
        {
          "output_type": "stream",
          "name": "stdout",
          "text": [
            "tensor([[0.7220, 0.8217, 0.2612, 0.7375],\n",
            "        [0.8328, 0.8444, 0.2941, 0.3788]])\n",
            "tensor([[1.4439, 1.6434, 0.5224, 1.4750],\n",
            "        [1.6657, 1.6888, 0.5882, 0.7576]])\n"
          ]
        }
      ],
      "source": [
        "rand = torch.rand(2, 4)\n",
        "doubled = rand * (torch.ones(1, 4) * 2)\n",
        "\n",
        "print(rand)\n",
        "print(doubled)"
      ]
    },
    {
      "cell_type": "code",
      "execution_count": 51,
      "metadata": {
        "colab": {
          "base_uri": "https://localhost:8080/"
        },
        "id": "MJDzovmC-dVT",
        "outputId": "8f00f10f-dcfe-49f2-8e51-e4fbf3ea52b6"
      },
      "outputs": [
        {
          "output_type": "stream",
          "name": "stdout",
          "text": [
            "tensor([[0.4567, 0.0649, 0.6677, 0.7826],\n",
            "        [0.1332, 0.0023, 0.4945, 0.3857]])\n",
            "tensor([[0.9883],\n",
            "        [0.4762]])\n",
            "tensor([[1.8055, 0.2567, 2.6398, 3.0939],\n",
            "        [0.2537, 0.0043, 0.9420, 0.7348]])\n"
          ]
        }
      ],
      "source": [
        "rand2 =  torch.rand(2,4)\n",
        "print(rand2)\n",
        "multiplier = torch.rand(2,1)\n",
        "print(multiplier)\n",
        "\n",
        "print(rand2 * (multiplier*4))"
      ]
    },
    {
      "cell_type": "markdown",
      "metadata": {
        "id": "eSJX6wNc9FJ4"
      },
      "source": [
        "What’s the trick here? How is it we got to multiply a 2x4 tensor by a\n",
        "1x4 tensor?\n",
        "\n",
        "Broadcasting is a way to perform an operation between tensors that have\n",
        "similarities in their shapes. In the example above, the one-row,\n",
        "four-column tensor is multiplied by *both rows* of the two-row,\n",
        "four-column tensor.\n",
        "\n",
        "This is an important operation in Deep Learning. The common example is\n",
        "multiplying a tensor of learning weights by a *batch* of input tensors,\n",
        "applying the operation to each instance in the batch separately, and\n",
        "returning a tensor of identical shape - just like our (2, 4) \\* (1, 4)\n",
        "example above returned a tensor of shape (2, 4).\n",
        "\n",
        "The rules for broadcasting are:\n",
        "\n",
        "-  Each tensor must have at least one dimension - no empty tensors.\n",
        "\n",
        "-  Comparing the dimension sizes of the two tensors, *going from last to\n",
        "   first:*\n",
        "\n",
        "   -  Each dimension must be equal, *or*\n",
        "\n",
        "   -  One of the dimensions must be of size 1, *or*\n",
        "\n",
        "   -  The dimension does not exist in one of the tensors\n",
        "\n",
        "Tensors of identical shape, of course, are trivially “broadcastable”, as\n",
        "you saw earlier.\n",
        "\n",
        "Here are some examples of situations that honor the above rules and\n",
        "allow broadcasting:\n",
        "\n",
        "\n"
      ]
    },
    {
      "cell_type": "code",
      "execution_count": 52,
      "metadata": {
        "id": "Dm6J5w5j9FJ4",
        "colab": {
          "base_uri": "https://localhost:8080/"
        },
        "outputId": "92061c43-d442-402e-cbd6-01756d0f1b4f"
      },
      "outputs": [
        {
          "output_type": "stream",
          "name": "stdout",
          "text": [
            "tensor([[[0.7242, 0.0776],\n",
            "         [0.4004, 0.9877],\n",
            "         [0.0352, 0.0905]],\n",
            "\n",
            "        [[0.7242, 0.0776],\n",
            "         [0.4004, 0.9877],\n",
            "         [0.0352, 0.0905]],\n",
            "\n",
            "        [[0.7242, 0.0776],\n",
            "         [0.4004, 0.9877],\n",
            "         [0.0352, 0.0905]],\n",
            "\n",
            "        [[0.7242, 0.0776],\n",
            "         [0.4004, 0.9877],\n",
            "         [0.0352, 0.0905]]])\n",
            "tensor([[[0.4485, 0.4485],\n",
            "         [0.8740, 0.8740],\n",
            "         [0.2526, 0.2526]],\n",
            "\n",
            "        [[0.4485, 0.4485],\n",
            "         [0.8740, 0.8740],\n",
            "         [0.2526, 0.2526]],\n",
            "\n",
            "        [[0.4485, 0.4485],\n",
            "         [0.8740, 0.8740],\n",
            "         [0.2526, 0.2526]],\n",
            "\n",
            "        [[0.4485, 0.4485],\n",
            "         [0.8740, 0.8740],\n",
            "         [0.2526, 0.2526]]])\n",
            "tensor([[[0.6923, 0.7545],\n",
            "         [0.6923, 0.7545],\n",
            "         [0.6923, 0.7545]],\n",
            "\n",
            "        [[0.6923, 0.7545],\n",
            "         [0.6923, 0.7545],\n",
            "         [0.6923, 0.7545]],\n",
            "\n",
            "        [[0.6923, 0.7545],\n",
            "         [0.6923, 0.7545],\n",
            "         [0.6923, 0.7545]],\n",
            "\n",
            "        [[0.6923, 0.7545],\n",
            "         [0.6923, 0.7545],\n",
            "         [0.6923, 0.7545]]])\n"
          ]
        }
      ],
      "source": [
        "a =     torch.ones(4, 3, 2)\n",
        "\n",
        "b = a * torch.rand(   3, 2) # 3rd & 2nd dims identical to a, dim 1 absent\n",
        "print(b)\n",
        "\n",
        "c = a * torch.rand(   3, 1) # 3rd dim = 1, 2nd dim identical to a\n",
        "print(c)\n",
        "\n",
        "d = a * torch.rand(   1, 2) # 3rd dim identical to a, 2nd dim = 1\n",
        "print(d)"
      ]
    },
    {
      "cell_type": "markdown",
      "metadata": {
        "id": "-ZJDTc9x9FJ5"
      },
      "source": [
        "Look closely at the values of each tensor above:\n",
        "\n",
        "-  The multiplication operation that created ``b`` was\n",
        "   broadcast over every “layer” of ``a``.\n",
        "-  For ``c``, the operation was broadcast over every layer and row of\n",
        "   ``a`` - every 3-element column is identical.\n",
        "-  For ``d``, we switched it around - now every *row* is identical,\n",
        "   across layers and columns.\n",
        "\n",
        "For more information on broadcasting, see the [PyTorch\n",
        "documentation](https://pytorch.org/docs/stable/notes/broadcasting.html)_\n",
        "on the topic.\n",
        "\n",
        "Here are some examples of attempts at broadcasting that will fail:\n",
        "\n",
        "<div class=\"alert alert-info\"><h4>Note</h4><p>The following cell throws a run-time error. This is intentional.</p></div>\n",
        "\n",
        "::\n",
        "\n",
        "   a =     torch.ones(4, 3, 2)\n",
        "\n",
        "   b = a * torch.rand(4, 3)    # dimensions must match last-to-first\n",
        "\n",
        "   c = a * torch.rand(   2, 3) # both 3rd & 2nd dims different\n",
        "\n",
        "   d = a * torch.rand((0, ))   # can't broadcast with an empty tensor\n",
        "\n",
        "\n"
      ]
    },
    {
      "cell_type": "markdown",
      "metadata": {
        "id": "RCkuEnyT9FJ5"
      },
      "source": [
        "### More Math with Tensors\n",
        "\n",
        "PyTorch tensors have over three hundred operations that can be performed\n",
        "on them.\n",
        "\n",
        "Here is a small sample from some of the major categories of operations:\n",
        "\n",
        "\n"
      ]
    },
    {
      "cell_type": "code",
      "execution_count": 54,
      "metadata": {
        "id": "Y6PiNfB29FJ5",
        "colab": {
          "base_uri": "https://localhost:8080/"
        },
        "outputId": "5044c41e-0dc6-402d-a7f4-92c373aa39fa"
      },
      "outputs": [
        {
          "output_type": "stream",
          "name": "stdout",
          "text": [
            "Common functions:\n",
            "tensor([[0.8608, 0.0704, 0.1018, 0.2531],\n",
            "        [0.8823, 0.0156, 0.0921, 0.0792]])\n",
            "tensor([[-0., -0., -0., 1.],\n",
            "        [1., -0., 1., 1.]])\n",
            "tensor([[-1., -1., -1.,  0.],\n",
            "        [ 0., -1.,  0.,  0.]])\n",
            "tensor([[-0.5000, -0.0704, -0.1018,  0.2531],\n",
            "        [ 0.5000, -0.0156,  0.0921,  0.0792]])\n",
            "\n",
            "Sine and arcsine:\n",
            "Angles tensor([0.0000, 0.7854, 1.5708, 2.3562])\n",
            "Sin tensor([0.0000, 0.7071, 1.0000, 0.7071])\n",
            "ArcSin tensor([0.0000, 0.7854, 1.5708, 0.7854])\n",
            "\n",
            "Bitwise XOR:\n",
            "tensor([3, 2, 1])\n",
            "\n",
            "Broadcasted, element-wise equality comparison:\n",
            "tensor([[ True, False],\n",
            "        [False, False]])\n",
            "\n",
            "Reduction ops:\n",
            "tensor(4.)\n",
            "4.0\n",
            "tensor(2.5000)\n",
            "tensor(1.2910)\n",
            "tensor(24.)\n",
            "tensor([1, 2])\n",
            "\n",
            "Vectors & Matrices:\n",
            "tensor([ 0.,  0., -1.])\n",
            "tensor([[0.3053, 0.1973],\n",
            "        [0.3285, 0.5655]])\n",
            "tensor([[0.9160, 0.5919],\n",
            "        [0.9856, 1.6966]])\n",
            "torch.return_types.svd(\n",
            "U=tensor([[-0.4625, -0.8866],\n",
            "        [-0.8866,  0.4625]]),\n",
            "S=tensor([2.2011, 0.4410]),\n",
            "V=tensor([[-0.5895, -0.8078],\n",
            "        [-0.8078,  0.5895]]))\n"
          ]
        }
      ],
      "source": [
        "# common functions\n",
        "a = torch.rand(2, 4) * 2 - 1\n",
        "print('Common functions:')\n",
        "print(torch.abs(a))\n",
        "print(torch.ceil(a))\n",
        "print(torch.floor(a))\n",
        "print(torch.clamp(a, -0.5, 0.5))\n",
        "\n",
        "# trigonometric functions and their inverses\n",
        "angles = torch.tensor([0, math.pi / 4, math.pi / 2, 3 * math.pi / 4])\n",
        "sines = torch.sin(angles)\n",
        "inverses = torch.asin(sines)\n",
        "print('\\nSine and arcsine:')\n",
        "print(\"Angles\",angles)\n",
        "print(\"Sin\",sines)\n",
        "print(\"ArcSin\",inverses)\n",
        "\n",
        "# bitwise operations\n",
        "print('\\nBitwise XOR:')\n",
        "b = torch.tensor([1, 5, 11])\n",
        "c = torch.tensor([2, 7, 10])\n",
        "print(torch.bitwise_xor(b, c))\n",
        "\n",
        "# comparisons:\n",
        "print('\\nBroadcasted, element-wise equality comparison:')\n",
        "d = torch.tensor([[1., 2.], [3., 4.]])\n",
        "e = torch.ones(1, 2)  # many comparison ops support broadcasting!\n",
        "print(torch.eq(d, e)) # returns a tensor of type bool\n",
        "\n",
        "# reductions:\n",
        "print('\\nReduction ops:')\n",
        "print(torch.max(d))        # returns a single-element tensor\n",
        "print(torch.max(d).item()) # extracts the value from the returned tensor\n",
        "print(torch.mean(d))       # average\n",
        "print(torch.std(d))        # standard deviation\n",
        "print(torch.prod(d))       # product of all numbers\n",
        "print(torch.unique(torch.tensor([1, 2, 1, 2, 1, 2]))) # filter unique elements\n",
        "\n",
        "# vector and linear algebra operations\n",
        "v1 = torch.tensor([1., 0., 0.])         # x unit vector\n",
        "v2 = torch.tensor([0., 1., 0.])         # y unit vector\n",
        "m1 = torch.rand(2, 2)                   # random matrix\n",
        "m2 = torch.tensor([[3., 0.], [0., 3.]]) # three times identity matrix\n",
        "\n",
        "print('\\nVectors & Matrices:')\n",
        "print(torch.cross(v2, v1)) # negative of z unit vector (v1 x v2 == -v2 x v1)\n",
        "print(m1)\n",
        "m3 = torch.matmul(m1, m2)\n",
        "print(m3)                  # 3 times m1\n",
        "print(torch.svd(m3))       # singular value decomposition"
      ]
    },
    {
      "cell_type": "markdown",
      "metadata": {
        "id": "_qj4Ywoa9FJ6"
      },
      "source": [
        "This is a small sample of operations. For more details and the full inventory of\n",
        "math functions, have a look at the\n",
        "[documentation](https://pytorch.org/docs/stable/torch.html#math-operations)_.\n",
        "\n",
        "### Altering Tensors in Place\n",
        "\n",
        "Most binary operations on tensors will return a third, new tensor. When\n",
        "we say ``c = a * b`` (where ``a`` and ``b`` are tensors), the new tensor\n",
        "``c`` will occupy a region of memory distinct from the other tensors.\n",
        "\n",
        "There are times, though, that you may wish to alter a tensor in place -\n",
        "for example, if you’re doing an element-wise computation where you can\n",
        "discard intermediate values. For this, most of the math functions have a\n",
        "version with an appended underscore (``_``) that will alter a tensor in\n",
        "place.\n",
        "\n",
        "For example:\n",
        "\n",
        "\n"
      ]
    },
    {
      "cell_type": "code",
      "execution_count": 47,
      "metadata": {
        "id": "GtmOUfKD9FJ7",
        "colab": {
          "base_uri": "https://localhost:8080/"
        },
        "outputId": "20f6ffee-82fe-4e36-c7ce-1e7c9074bc94"
      },
      "outputs": [
        {
          "output_type": "stream",
          "name": "stdout",
          "text": [
            "a:\n",
            "tensor([0.0000, 0.7854, 1.5708, 2.3562])\n",
            "tensor([0.0000, 0.7071, 1.0000, 0.7071])\n",
            "tensor([0.0000, 0.7854, 1.5708, 2.3562])\n",
            "\n",
            "b:\n",
            "tensor([0.0000, 0.7854, 1.5708, 2.3562])\n",
            "tensor([0.0000, 0.7071, 1.0000, 0.7071])\n",
            "tensor([0.0000, 0.7071, 1.0000, 0.7071])\n"
          ]
        }
      ],
      "source": [
        "a = torch.tensor([0, math.pi / 4, math.pi / 2, 3 * math.pi / 4])\n",
        "print('a:')\n",
        "print(a)\n",
        "print(torch.sin(a))   # this operation creates a new tensor in memory\n",
        "print(a)              # a has not changed\n",
        "\n",
        "b = torch.tensor([0, math.pi / 4, math.pi / 2, 3 * math.pi / 4])\n",
        "print('\\nb:')\n",
        "print(b)\n",
        "print(torch.sin_(b))  # note the underscore\n",
        "print(b)              # b has changed"
      ]
    },
    {
      "cell_type": "markdown",
      "metadata": {
        "id": "lnG_haNx9FJ7"
      },
      "source": [
        "For arithmetic operations, there are functions that behave similarly:\n",
        "\n",
        "\n"
      ]
    },
    {
      "cell_type": "code",
      "execution_count": 55,
      "metadata": {
        "id": "FWZseeui9FJ7",
        "colab": {
          "base_uri": "https://localhost:8080/"
        },
        "outputId": "3ac8bc7b-9eac-490a-d74d-e0fe332d93a7"
      },
      "outputs": [
        {
          "output_type": "stream",
          "name": "stdout",
          "text": [
            "Before:\n",
            "tensor([[1., 1.],\n",
            "        [1., 1.]])\n",
            "tensor([[0.0065, 0.7765],\n",
            "        [0.3534, 0.7016]])\n",
            "\n",
            "After adding:\n",
            "tensor([[1.0065, 1.7765],\n",
            "        [1.3534, 1.7016]])\n",
            "tensor([[1.0065, 1.7765],\n",
            "        [1.3534, 1.7016]])\n",
            "tensor([[0.0065, 0.7765],\n",
            "        [0.3534, 0.7016]])\n",
            "\n",
            "After multiplying\n",
            "tensor([[4.2797e-05, 6.0299e-01],\n",
            "        [1.2490e-01, 4.9226e-01]])\n",
            "tensor([[4.2797e-05, 6.0299e-01],\n",
            "        [1.2490e-01, 4.9226e-01]])\n"
          ]
        }
      ],
      "source": [
        "a = torch.ones(2, 2)\n",
        "b = torch.rand(2, 2)\n",
        "\n",
        "print('Before:')\n",
        "print(a)\n",
        "print(b)\n",
        "print('\\nAfter adding:')\n",
        "print(a.add_(b))\n",
        "print(a)\n",
        "print(b)\n",
        "print('\\nAfter multiplying')\n",
        "print(b.mul_(b))\n",
        "print(b)"
      ]
    },
    {
      "cell_type": "markdown",
      "metadata": {
        "id": "uP7vnP7s9FJ7"
      },
      "source": [
        "Note that these in-place arithmetic functions are methods on the\n",
        "``torch.Tensor`` object, not attached to the ``torch`` module like many\n",
        "other functions (e.g., ``torch.sin()``). As you can see from\n",
        "``a.add_(b)``, *the calling tensor is the one that gets changed in\n",
        "place.*\n",
        "\n",
        "There is another option for placing the result of a computation in an\n",
        "existing, allocated tensor. Many of the methods and functions we’ve seen\n",
        "so far - including creation methods! - have an ``out`` argument that\n",
        "lets you specify a tensor to receive the output. If the ``out`` tensor\n",
        "is the correct shape and ``dtype``, this can happen without a new memory\n",
        "allocation:\n",
        "\n",
        "\n"
      ]
    },
    {
      "cell_type": "code",
      "execution_count": 56,
      "metadata": {
        "id": "TVDAmae-9FJ8",
        "colab": {
          "base_uri": "https://localhost:8080/"
        },
        "outputId": "279d992a-dcd8-4c18-a9d9-4f725b0dc73c"
      },
      "outputs": [
        {
          "output_type": "stream",
          "name": "stdout",
          "text": [
            "tensor([[0., 0.],\n",
            "        [0., 0.]])\n",
            "tensor([[0.8723, 0.9996],\n",
            "        [0.7176, 0.8438]])\n",
            "tensor([[0.4757, 0.5874],\n",
            "        [0.4363, 0.6339]])\n"
          ]
        }
      ],
      "source": [
        "a = torch.rand(2, 2)\n",
        "b = torch.rand(2, 2)\n",
        "c = torch.zeros(2, 2)\n",
        "old_id = id(c)\n",
        "\n",
        "print(c)\n",
        "d = torch.matmul(a, b, out=c)\n",
        "print(c)                # contents of c have changed\n",
        "\n",
        "assert c is d           # test c & d are same object, not just containing equal values\n",
        "assert id(c) == old_id  # make sure that our new c is the same object as the old one\n",
        "\n",
        "torch.rand(2, 2, out=c) # works for creation too!\n",
        "print(c)                # c has changed again\n",
        "assert id(c) == old_id  # still the same object!"
      ]
    },
    {
      "cell_type": "markdown",
      "metadata": {
        "id": "AKpjUSG49FJ9"
      },
      "source": [
        "## Copying Tensors\n",
        "\n",
        "As with any object in Python, assigning a tensor to a variable makes the\n",
        "variable a *label* of the tensor, and does not copy it. For example:\n",
        "\n",
        "\n"
      ]
    },
    {
      "cell_type": "code",
      "execution_count": 57,
      "metadata": {
        "id": "mVsrfQ-j9FJ9",
        "colab": {
          "base_uri": "https://localhost:8080/"
        },
        "outputId": "2f41dd10-9118-4392-acc7-82480fe4e3df"
      },
      "outputs": [
        {
          "output_type": "stream",
          "name": "stdout",
          "text": [
            "tensor([[  1., 561.],\n",
            "        [  1.,   1.]])\n"
          ]
        }
      ],
      "source": [
        "a = torch.ones(2, 2)\n",
        "b = a\n",
        "\n",
        "a[0][1] = 561  # we change a...\n",
        "print(b)       # ...and b is also altered"
      ]
    },
    {
      "cell_type": "markdown",
      "metadata": {
        "id": "4n6ve6QH9FJ-"
      },
      "source": [
        "But what if you want a separate copy of the data to work on? The\n",
        "``clone()`` method is there for you:\n",
        "\n",
        "\n"
      ]
    },
    {
      "cell_type": "code",
      "execution_count": 58,
      "metadata": {
        "id": "tE0gFMjr9FJ_",
        "colab": {
          "base_uri": "https://localhost:8080/"
        },
        "outputId": "1f1de6f2-c5bd-4f9c-c74f-12686c7f028c"
      },
      "outputs": [
        {
          "output_type": "stream",
          "name": "stdout",
          "text": [
            "tensor([[True, True],\n",
            "        [True, True]])\n",
            "tensor([[1., 1.],\n",
            "        [1., 1.]])\n"
          ]
        }
      ],
      "source": [
        "a = torch.ones(2, 2)\n",
        "b = a.clone()\n",
        "\n",
        "assert b is not a      # different objects in memory...\n",
        "print(torch.eq(a, b))  # ...but still with the same contents!\n",
        "\n",
        "a[0][1] = 561          # a changes...\n",
        "print(b)               # ...but b is still all ones"
      ]
    },
    {
      "cell_type": "markdown",
      "metadata": {
        "id": "7WX0nmDX9FJ_"
      },
      "source": [
        "**There is an important thing to be aware of when using ``clone()``.**\n",
        "If your source tensor has autograd, enabled then so will the clone.\n",
        "**This will be covered more deeply in the video on autograd,** but if\n",
        "you want the light version of the details, continue on.\n",
        "\n",
        "*In many cases, this will be what you want.* For example, if your model\n",
        "has multiple computation paths in its ``forward()`` method, and *both*\n",
        "the original tensor and its clone contribute to the model’s output, then\n",
        "to enable model learning you want autograd turned on for both tensors.\n",
        "If your source tensor has autograd enabled (which it generally will if\n",
        "it’s a set of learning weights or derived from a computation involving\n",
        "the weights), then you’ll get the result you want.\n",
        "\n",
        "On the other hand, if you’re doing a computation where *neither* the\n",
        "original tensor nor its clone need to track gradients, then as long as\n",
        "the source tensor has autograd turned off, you’re good to go.\n",
        "\n",
        "*There is a third case,* though: Imagine you’re performing a computation\n",
        "in your model’s ``forward()`` function, where gradients are turned on\n",
        "for everything by default, but you want to pull out some values\n",
        "mid-stream to generate some metrics. In this case, you *don’t* want the\n",
        "cloned copy of your source tensor to track gradients - performance is\n",
        "improved with autograd’s history tracking turned off. For this, you can\n",
        "use the ``.detach()`` method on the source tensor:\n",
        "\n",
        "\n"
      ]
    },
    {
      "cell_type": "code",
      "execution_count": 59,
      "metadata": {
        "id": "OhEUnQuR9FKA",
        "colab": {
          "base_uri": "https://localhost:8080/"
        },
        "outputId": "5e24c16b-956c-4451-902c-76688ba4566a"
      },
      "outputs": [
        {
          "output_type": "stream",
          "name": "stdout",
          "text": [
            "tensor([[0.3208, 0.4323],\n",
            "        [0.1811, 0.6962]], requires_grad=True)\n",
            "tensor([[0.3208, 0.4323],\n",
            "        [0.1811, 0.6962]], grad_fn=<CloneBackward0>)\n",
            "tensor([[0.3208, 0.4323],\n",
            "        [0.1811, 0.6962]])\n",
            "tensor([[0.3208, 0.4323],\n",
            "        [0.1811, 0.6962]], requires_grad=True)\n"
          ]
        }
      ],
      "source": [
        "a = torch.rand(2, 2, requires_grad=True) # turn on autograd\n",
        "print(a)\n",
        "\n",
        "b = a.clone()\n",
        "print(b)\n",
        "\n",
        "c = a.detach().clone()\n",
        "print(c)\n",
        "\n",
        "print(a)"
      ]
    },
    {
      "cell_type": "markdown",
      "metadata": {
        "id": "3DGuKGVl9FKJ"
      },
      "source": [
        "What’s happening here?\n",
        "\n",
        "-  We create ``a`` with ``requires_grad=True`` turned on. **We haven’t\n",
        "   covered this optional argument yet, but will during the unit on\n",
        "   autograd.**\n",
        "-  When we print ``a``, it informs us that the property\n",
        "   ``requires_grad=True`` - this means that autograd and computation\n",
        "   history tracking are turned on.\n",
        "-  We clone ``a`` and label it ``b``. When we print ``b``, we can see\n",
        "   that it’s tracking its computation history - it has inherited\n",
        "   ``a``\\ ’s autograd settings, and added to the computation history.\n",
        "-  We clone ``a`` into ``c``, but we call ``detach()`` first.\n",
        "-  Printing ``c``, we see no computation history, and no\n",
        "   ``requires_grad=True``.\n",
        "\n",
        "The ``detach()`` method *detaches the tensor from its computation\n",
        "history.* It says, “do whatever comes next as if autograd was off.” It\n",
        "does this *without* changing ``a`` - you can see that when we print\n",
        "``a`` again at the end, it retains its ``requires_grad=True`` property.\n",
        "\n",
        "## Moving to GPU\n",
        "\n",
        "One of the major advantages of PyTorch is its robust acceleration on\n",
        "CUDA-compatible Nvidia GPUs. (“CUDA” stands for *Compute Unified Device\n",
        "Architecture*, which is Nvidia’s platform for parallel computing.) So\n",
        "far, everything we’ve done has been on CPU. How do we move to the faster\n",
        "hardware?\n",
        "\n",
        "First, we should check whether a GPU is available, with the\n",
        "``is_available()`` method.\n",
        "\n",
        "<div class=\"alert alert-info\"><h4>Note</h4><p>If you do not have a CUDA-compatible GPU and CUDA drivers\n",
        "     installed, the executable cells in this section will not execute any\n",
        "     GPU-related code.</p></div>\n",
        "\n",
        "\n"
      ]
    },
    {
      "cell_type": "code",
      "execution_count": 60,
      "metadata": {
        "id": "pZ8bgLj29FKJ",
        "colab": {
          "base_uri": "https://localhost:8080/"
        },
        "outputId": "81d98f4f-f619-4517-801d-7fe51022e3a5"
      },
      "outputs": [
        {
          "output_type": "stream",
          "name": "stdout",
          "text": [
            "Sorry, CPU only.\n"
          ]
        }
      ],
      "source": [
        "if torch.cuda.is_available():\n",
        "    print('We have a GPU!')\n",
        "else:\n",
        "    print('Sorry, CPU only.')"
      ]
    },
    {
      "cell_type": "markdown",
      "metadata": {
        "id": "4zxVZnkA9FKK"
      },
      "source": [
        "Once we’ve determined that one or more GPUs is available, we need to put\n",
        "our data someplace where the GPU can see it. Your CPU does computation\n",
        "on data in your computer’s RAM. Your GPU has dedicated memory attached\n",
        "to it. Whenever you want to perform a computation on a device, you must\n",
        "move *all* the data needed for that computation to memory accessible by\n",
        "that device. (Colloquially, “moving the data to memory accessible by the\n",
        "GPU” is shorted to, “moving the data to the GPU”.)\n",
        "\n",
        "There are multiple ways to get your data onto your target device. You\n",
        "may do it at creation time:\n",
        "\n",
        "\n"
      ]
    },
    {
      "cell_type": "code",
      "execution_count": 61,
      "metadata": {
        "id": "qkyCI8R59FKK",
        "colab": {
          "base_uri": "https://localhost:8080/"
        },
        "outputId": "c9aaa4c2-1d7f-48e0-ad03-7f6a33140059"
      },
      "outputs": [
        {
          "output_type": "stream",
          "name": "stdout",
          "text": [
            "Sorry, CPU only.\n"
          ]
        }
      ],
      "source": [
        "if torch.cuda.is_available():\n",
        "    gpu_rand = torch.rand(2, 2, device='cuda')\n",
        "    print(gpu_rand)\n",
        "else:\n",
        "    print('Sorry, CPU only.')"
      ]
    },
    {
      "cell_type": "markdown",
      "metadata": {
        "id": "d-9dSWk19FKK"
      },
      "source": [
        "By default, new tensors are created on the CPU, so we have to specify\n",
        "when we want to create our tensor on the GPU with the optional\n",
        "``device`` argument. You can see when we print the new tensor, PyTorch\n",
        "informs us which device it’s on (if it’s not on CPU).\n",
        "\n",
        "You can query the number of GPUs with ``torch.cuda.device_count()``. If\n",
        "you have more than one GPU, you can specify them by index:\n",
        "``device='cuda:0'``, ``device='cuda:1'``, etc.\n",
        "\n",
        "As a coding practice, specifying our devices everywhere with string\n",
        "constants is pretty fragile. In an ideal world, your code would perform\n",
        "robustly whether you’re on CPU or GPU hardware. You can do this by\n",
        "creating a device handle that can be passed to your tensors instead of a\n",
        "string:\n",
        "\n",
        "\n"
      ]
    },
    {
      "cell_type": "code",
      "execution_count": 62,
      "metadata": {
        "id": "bDW5XGul9FKL",
        "colab": {
          "base_uri": "https://localhost:8080/"
        },
        "outputId": "0c5abf01-03aa-406b-f831-8da0bb5dc2ba"
      },
      "outputs": [
        {
          "output_type": "stream",
          "name": "stdout",
          "text": [
            "Device: cpu\n",
            "tensor([[0.8073, 0.2125],\n",
            "        [0.3977, 0.3132]])\n"
          ]
        }
      ],
      "source": [
        "if torch.cuda.is_available():\n",
        "    my_device = torch.device('cuda')\n",
        "else:\n",
        "    my_device = torch.device('cpu')\n",
        "print('Device: {}'.format(my_device))\n",
        "\n",
        "x = torch.rand(2, 2, device=my_device)\n",
        "print(x)"
      ]
    },
    {
      "cell_type": "markdown",
      "metadata": {
        "id": "mSrR6sKr9FKL"
      },
      "source": [
        "If you have an existing tensor living on one device, you can move it to\n",
        "another with the ``to()`` method. The following line of code creates a\n",
        "tensor on CPU, and moves it to whichever device handle you acquired in\n",
        "the previous cell.\n",
        "\n",
        "\n"
      ]
    },
    {
      "cell_type": "code",
      "execution_count": 63,
      "metadata": {
        "id": "PB06hhmJ9FKL"
      },
      "outputs": [],
      "source": [
        "y = torch.rand(2, 2)\n",
        "y = y.to(my_device)"
      ]
    },
    {
      "cell_type": "markdown",
      "metadata": {
        "id": "vftqB7789FKM"
      },
      "source": [
        "It is important to know that in order to do computation involving two or\n",
        "more tensors, *all of the tensors must be on the same device*. The\n",
        "following code will throw a runtime error, regardless of whether you\n",
        "have a GPU device available:\n",
        "\n",
        "::\n",
        "\n",
        "   x = torch.rand(2, 2)\n",
        "   y = torch.rand(2, 2, device='gpu')\n",
        "   z = x + y  # exception will be thrown\n",
        "\n",
        "\n"
      ]
    },
    {
      "cell_type": "markdown",
      "metadata": {
        "id": "qvuPKuNc9FKM"
      },
      "source": [
        "## Manipulating Tensor Shapes\n",
        "\n",
        "Sometimes, you’ll need to change the shape of your tensor. Below, we’ll\n",
        "look at a few common cases, and how to handle them.\n",
        "\n",
        "### Changing the Number of Dimensions\n",
        "\n",
        "One case where you might need to change the number of dimensions is\n",
        "passing a single instance of input to your model. PyTorch models\n",
        "generally expect *batches* of input.\n",
        "\n",
        "For example, imagine having a model that works on 3 x 226 x 226 images -\n",
        "a 226-pixel square with 3 color channels. When you load and transform\n",
        "it, you’ll get a tensor of shape ``(3, 226, 226)``. Your model, though,\n",
        "is expecting input of shape ``(N, 3, 226, 226)``, where ``N`` is the\n",
        "number of images in the batch. So how do you make a batch of one?\n",
        "\n",
        "\n"
      ]
    },
    {
      "cell_type": "code",
      "execution_count": 64,
      "metadata": {
        "id": "gnk7JukY9FKM",
        "colab": {
          "base_uri": "https://localhost:8080/"
        },
        "outputId": "14aa8abb-d9af-4bc3-a98c-40510486a242"
      },
      "outputs": [
        {
          "output_type": "stream",
          "name": "stdout",
          "text": [
            "torch.Size([3, 226, 226])\n",
            "torch.Size([1, 3, 226, 226])\n"
          ]
        }
      ],
      "source": [
        "a = torch.rand(3, 226, 226)\n",
        "b = a.unsqueeze(0)\n",
        "\n",
        "print(a.shape)\n",
        "print(b.shape)"
      ]
    },
    {
      "cell_type": "markdown",
      "metadata": {
        "id": "9VowNWL39FKN"
      },
      "source": [
        "The ``unsqueeze()`` method adds a dimension of extent 1.\n",
        "``unsqueeze(0)`` adds it as a new zeroth dimension - now you have a\n",
        "batch of one!\n",
        "\n",
        "So if that’s *un*\\ squeezing? What do we mean by squeezing? We’re taking\n",
        "advantage of the fact that any dimension of extent 1 *does not* change\n",
        "the number of elements in the tensor.\n",
        "\n",
        "\n"
      ]
    },
    {
      "cell_type": "code",
      "execution_count": 65,
      "metadata": {
        "id": "vdF3ojnu9FKN",
        "colab": {
          "base_uri": "https://localhost:8080/"
        },
        "outputId": "d112668c-9887-42ac-d661-1e60adbdfd91"
      },
      "outputs": [
        {
          "output_type": "stream",
          "name": "stdout",
          "text": [
            "tensor([[[[[0.5078]]]]])\n"
          ]
        }
      ],
      "source": [
        "c = torch.rand(1, 1, 1, 1, 1)\n",
        "print(c)"
      ]
    },
    {
      "cell_type": "markdown",
      "metadata": {
        "id": "DThdenLi9FKN"
      },
      "source": [
        "Continuing the example above, let’s say the model’s output is a\n",
        "20-element vector for each input. You would then expect the output to\n",
        "have shape ``(N, 20)``, where ``N`` is the number of instances in the\n",
        "input batch. That means that for our single-input batch, we’ll get an\n",
        "output of shape ``(1, 20)``.\n",
        "\n",
        "What if you want to do some *non-batched* computation with that output -\n",
        "something that’s just expecting a 20-element vector?\n",
        "\n",
        "\n"
      ]
    },
    {
      "cell_type": "code",
      "execution_count": 66,
      "metadata": {
        "id": "FwSlWoA19FKO",
        "colab": {
          "base_uri": "https://localhost:8080/"
        },
        "outputId": "390039a8-8b57-447d-ba6a-374a34c61445"
      },
      "outputs": [
        {
          "output_type": "stream",
          "name": "stdout",
          "text": [
            "torch.Size([1, 20])\n",
            "tensor([[0.8012, 0.5088, 0.3142, 0.8068, 0.6503, 0.4621, 0.6882, 0.7282, 0.9156,\n",
            "         0.4836, 0.1451, 0.7946, 0.4126, 0.1625, 0.9214, 0.2327, 0.5813, 0.7089,\n",
            "         0.3735, 0.9389]])\n",
            "torch.Size([20])\n",
            "tensor([0.8012, 0.5088, 0.3142, 0.8068, 0.6503, 0.4621, 0.6882, 0.7282, 0.9156,\n",
            "        0.4836, 0.1451, 0.7946, 0.4126, 0.1625, 0.9214, 0.2327, 0.5813, 0.7089,\n",
            "        0.3735, 0.9389])\n",
            "torch.Size([2, 2])\n",
            "torch.Size([2, 2])\n"
          ]
        }
      ],
      "source": [
        "a = torch.rand(1, 20)\n",
        "print(a.shape)\n",
        "print(a)\n",
        "\n",
        "b = a.squeeze(0)\n",
        "print(b.shape)\n",
        "print(b)\n",
        "\n",
        "c = torch.rand(2, 2)\n",
        "print(c.shape)\n",
        "\n",
        "d = c.squeeze(0)\n",
        "print(d.shape)"
      ]
    },
    {
      "cell_type": "markdown",
      "metadata": {
        "id": "_XLvj3Tz9FKO"
      },
      "source": [
        "You can see from the shapes that our 2-dimensional tensor is now\n",
        "1-dimensional, and if you look closely at the output of the cell above\n",
        "you’ll see that printing ``a`` shows an “extra” set of square brackets\n",
        "``[]`` due to having an extra dimension.\n",
        "\n",
        "You may only ``squeeze()`` dimensions of extent 1. See above where we\n",
        "try to squeeze a dimension of size 2 in ``c``, and get back the same\n",
        "shape we started with. Calls to ``squeeze()`` and ``unsqueeze()`` can\n",
        "only act on dimensions of extent 1 because to do otherwise would change\n",
        "the number of elements in the tensor.\n",
        "\n",
        "Another place you might use ``unsqueeze()`` is to ease broadcasting.\n",
        "Recall the example above where we had the following code:\n",
        "\n",
        "::\n",
        "\n",
        "   a =     torch.ones(4, 3, 2)\n",
        "\n",
        "   c = a * torch.rand(   3, 1) # 3rd dim = 1, 2nd dim identical to a\n",
        "   print(c)\n",
        "\n",
        "The net effect of that was to broadcast the operation over dimensions 0\n",
        "and 2, causing the random, 3 x 1 tensor to be multiplied element-wise by\n",
        "every 3-element column in ``a``.\n",
        "\n",
        "What if the random vector had just been 3-element vector? We’d lose the\n",
        "ability to do the broadcast, because the final dimensions would not\n",
        "match up according to the broadcasting rules. ``unsqueeze()`` comes to\n",
        "the rescue:\n",
        "\n",
        "\n"
      ]
    },
    {
      "cell_type": "code",
      "execution_count": 67,
      "metadata": {
        "id": "81QMJKi-9FKP",
        "colab": {
          "base_uri": "https://localhost:8080/"
        },
        "outputId": "9a4c5a9e-6e42-4f8d-8fef-45feb2c06ff1"
      },
      "outputs": [
        {
          "output_type": "stream",
          "name": "stdout",
          "text": [
            "torch.Size([3, 1])\n",
            "tensor([[[0.6166, 0.6166],\n",
            "         [0.6064, 0.6064],\n",
            "         [0.9906, 0.9906]],\n",
            "\n",
            "        [[0.6166, 0.6166],\n",
            "         [0.6064, 0.6064],\n",
            "         [0.9906, 0.9906]],\n",
            "\n",
            "        [[0.6166, 0.6166],\n",
            "         [0.6064, 0.6064],\n",
            "         [0.9906, 0.9906]],\n",
            "\n",
            "        [[0.6166, 0.6166],\n",
            "         [0.6064, 0.6064],\n",
            "         [0.9906, 0.9906]]])\n"
          ]
        }
      ],
      "source": [
        "a = torch.ones(4, 3, 2)\n",
        "b = torch.rand(   3)     # trying to multiply a * b will give a runtime error\n",
        "c = b.unsqueeze(1)       # change to a 2-dimensional tensor, adding new dim at the end\n",
        "print(c.shape)\n",
        "print(a * c)             # broadcasting works again!"
      ]
    },
    {
      "cell_type": "markdown",
      "metadata": {
        "id": "I4ijTja49FKP"
      },
      "source": [
        "The ``squeeze()`` and ``unsqueeze()`` methods also have in-place\n",
        "versions, ``squeeze_()`` and ``unsqueeze_()``:\n",
        "\n",
        "\n"
      ]
    },
    {
      "cell_type": "code",
      "execution_count": null,
      "metadata": {
        "id": "E1HpH7jJ9FKP"
      },
      "outputs": [],
      "source": [
        "batch_me = torch.rand(3, 226, 226)\n",
        "print(batch_me.shape)\n",
        "batch_me.unsqueeze_(0)\n",
        "print(batch_me.shape)"
      ]
    },
    {
      "cell_type": "markdown",
      "metadata": {
        "id": "ZfdUTREX9FKQ"
      },
      "source": [
        "Sometimes you’ll want to change the shape of a tensor more radically,\n",
        "while still preserving the number of elements and their contents. One\n",
        "case where this happens is at the interface between a convolutional\n",
        "layer of a model and a linear layer of the model - this is common in\n",
        "image classification models. A convolution kernel will yield an output\n",
        "tensor of shape *features x width x height,* but the following linear\n",
        "layer expects a 1-dimensional input. ``reshape()`` will do this for you,\n",
        "provided that the dimensions you request yield the same number of\n",
        "elements as the input tensor has:\n",
        "\n",
        "\n"
      ]
    },
    {
      "cell_type": "code",
      "execution_count": 68,
      "metadata": {
        "id": "-oNGGQrB9FKQ",
        "colab": {
          "base_uri": "https://localhost:8080/"
        },
        "outputId": "0f71c8c3-888b-420d-b3e0-81df775f6c63"
      },
      "outputs": [
        {
          "output_type": "stream",
          "name": "stdout",
          "text": [
            "torch.Size([6, 20, 20])\n",
            "torch.Size([2400])\n",
            "torch.Size([2400])\n"
          ]
        }
      ],
      "source": [
        "output3d = torch.rand(6, 20, 20)\n",
        "print(output3d.shape)\n",
        "\n",
        "input1d = output3d.reshape(6 * 20 * 20)\n",
        "print(input1d.shape)\n",
        "\n",
        "# can also call it as a method on the torch module:\n",
        "print(torch.reshape(output3d, (6 * 20 * 20,)).shape)"
      ]
    },
    {
      "cell_type": "markdown",
      "metadata": {
        "id": "Wr2s5jMT9FKR"
      },
      "source": [
        "<div class=\"alert alert-info\"><h4>Note</h4><p>The ``(6 * 20 * 20,)`` argument in the final line of the cell\n",
        "     above is because PyTorch expects a **tuple** when specifying a\n",
        "     tensor shape - but when the shape is the first argument of a method, it\n",
        "     lets us cheat and just use a series of integers. Here, we had to add the\n",
        "     parentheses and comma to convince the method that this is really a\n",
        "     one-element tuple.</p></div>\n",
        "\n",
        "When it can, ``reshape()`` will return a *view* on the tensor to be\n",
        "changed - that is, a separate tensor object looking at the same\n",
        "underlying region of memory. *This is important:* That means any change\n",
        "made to the source tensor will be reflected in the view on that tensor,\n",
        "unless you ``clone()`` it.\n",
        "\n",
        "There *are* conditions, beyond the scope of this introduction, where\n",
        "``reshape()`` has to return a tensor carrying a copy of the data. For\n",
        "more information, see the\n",
        "[docs](https://pytorch.org/docs/stable/torch.html#torch.reshape)_.\n",
        "\n",
        "\n"
      ]
    },
    {
      "cell_type": "markdown",
      "metadata": {
        "id": "akKeheH79FKR"
      },
      "source": [
        "## NumPy Bridge\n",
        "\n",
        "In the section above on broadcasting, it was mentioned that PyTorch’s\n",
        "broadcast semantics are compatible with NumPy’s - but the kinship\n",
        "between PyTorch and NumPy goes even deeper than that.\n",
        "\n",
        "If you have existing ML or scientific code with data stored in NumPy\n",
        "ndarrays, you may wish to express that same data as PyTorch tensors,\n",
        "whether to take advantage of PyTorch’s GPU acceleration, or its\n",
        "efficient abstractions for building ML models. It’s easy to switch\n",
        "between ndarrays and PyTorch tensors:\n",
        "\n",
        "\n"
      ]
    },
    {
      "cell_type": "code",
      "execution_count": 69,
      "metadata": {
        "id": "eMG9O8PR9FKR",
        "colab": {
          "base_uri": "https://localhost:8080/"
        },
        "outputId": "270f824b-bddc-4f1e-915e-6a82b0261a70"
      },
      "outputs": [
        {
          "output_type": "stream",
          "name": "stdout",
          "text": [
            "[[1. 1. 1.]\n",
            " [1. 1. 1.]]\n",
            "tensor([[1., 1., 1.],\n",
            "        [1., 1., 1.]], dtype=torch.float64)\n"
          ]
        }
      ],
      "source": [
        "import numpy as np\n",
        "\n",
        "numpy_array = np.ones((2, 3))\n",
        "print(numpy_array)\n",
        "\n",
        "pytorch_tensor = torch.from_numpy(numpy_array)\n",
        "print(pytorch_tensor)"
      ]
    },
    {
      "cell_type": "markdown",
      "metadata": {
        "id": "HFipwT4I9FKS"
      },
      "source": [
        "PyTorch creates a tensor of the same shape and containing the same data\n",
        "as the NumPy array, going so far as to keep NumPy’s default 64-bit float\n",
        "data type.\n",
        "\n",
        "The conversion can just as easily go the other way:\n",
        "\n",
        "\n"
      ]
    },
    {
      "cell_type": "code",
      "execution_count": 70,
      "metadata": {
        "id": "Hd6y69Z-9FKS",
        "colab": {
          "base_uri": "https://localhost:8080/"
        },
        "outputId": "ff17dad6-06e5-4970-c7bd-3d05ddc57304"
      },
      "outputs": [
        {
          "output_type": "stream",
          "name": "stdout",
          "text": [
            "tensor([[0.9434, 0.5534, 0.9248],\n",
            "        [0.0618, 0.0707, 0.7446]])\n",
            "[[0.94341874 0.5533817  0.92481095]\n",
            " [0.06176865 0.0706706  0.7446222 ]]\n"
          ]
        }
      ],
      "source": [
        "pytorch_rand = torch.rand(2, 3)\n",
        "print(pytorch_rand)\n",
        "\n",
        "numpy_rand = pytorch_rand.numpy()\n",
        "print(numpy_rand)"
      ]
    },
    {
      "cell_type": "markdown",
      "metadata": {
        "id": "GzJ1sC_V9FKS"
      },
      "source": [
        "It is important to know that these converted objects are using *the same\n",
        "underlying memory* as their source objects, meaning that changes to one\n",
        "are reflected in the other:\n",
        "\n",
        "\n"
      ]
    },
    {
      "cell_type": "code",
      "execution_count": 71,
      "metadata": {
        "id": "JoRRDj829FKT",
        "colab": {
          "base_uri": "https://localhost:8080/"
        },
        "outputId": "f7452c54-31be-418e-afcc-9b196fc94273"
      },
      "outputs": [
        {
          "output_type": "stream",
          "name": "stdout",
          "text": [
            "tensor([[ 1.,  1.,  1.],\n",
            "        [ 1., 23.,  1.]], dtype=torch.float64)\n",
            "[[ 0.94341874  0.5533817   0.92481095]\n",
            " [ 0.06176865 17.          0.7446222 ]]\n"
          ]
        }
      ],
      "source": [
        "numpy_array[1, 1] = 23\n",
        "print(pytorch_tensor)\n",
        "\n",
        "pytorch_rand[1, 1] = 17\n",
        "print(numpy_rand)"
      ]
    }
  ],
  "metadata": {
    "colab": {
      "provenance": [],
      "include_colab_link": true
    },
    "kernelspec": {
      "display_name": "Python 3",
      "language": "python",
      "name": "python3"
    },
    "language_info": {
      "codemirror_mode": {
        "name": "ipython",
        "version": 3
      },
      "file_extension": ".py",
      "mimetype": "text/x-python",
      "name": "python",
      "nbconvert_exporter": "python",
      "pygments_lexer": "ipython3",
      "version": "3.10.13"
    }
  },
  "nbformat": 4,
  "nbformat_minor": 0
}